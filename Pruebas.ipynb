{
  "cells": [
    {
      "cell_type": "markdown",
      "metadata": {
        "colab_type": "text",
        "id": "view-in-github"
      },
      "source": [
        "<a href=\"https://colab.research.google.com/github/KoNGoL/tfm_breast_cancer_detection/blob/main/Pruebas.ipynb\" target=\"_parent\"><img src=\"https://colab.research.google.com/assets/colab-badge.svg\" alt=\"Open In Colab\"/></a>"
      ]
    },
    {
      "cell_type": "code",
      "execution_count": 2,
      "metadata": {
        "colab": {
          "base_uri": "https://localhost:8080/"
        },
        "id": "PAr0J5Q4ZUmi",
        "outputId": "2837ffdf-e583-47c1-9b2b-802f11d6474a"
      },
      "outputs": [
        {
          "name": "stdout",
          "output_type": "stream",
          "text": [
            "Collecting pydicom\n",
            "  Downloading pydicom-2.3.0-py3-none-any.whl (2.0 MB)\n",
            "\u001b[K     |████████████████████████████████| 2.0 MB 2.9 MB/s eta 0:00:01\n",
            "\u001b[?25hInstalling collected packages: pydicom\n",
            "Successfully installed pydicom-2.3.0\n",
            "Requirement already satisfied: opencv-python in /home/fundamentia/.local/lib/python3.8/site-packages (4.5.5.64)\n",
            "Requirement already satisfied: numpy>=1.17.3; python_version >= \"3.8\" in /home/fundamentia/.local/lib/python3.8/site-packages (from opencv-python) (1.19.5)\n",
            "Requirement already satisfied: pillow in /home/fundamentia/.local/lib/python3.8/site-packages (9.1.0)\n",
            "Requirement already satisfied: pandas in /home/fundamentia/.local/lib/python3.8/site-packages (1.4.2)\n",
            "Requirement already satisfied: python-dateutil>=2.8.1 in /home/fundamentia/.local/lib/python3.8/site-packages (from pandas) (2.8.2)\n",
            "Requirement already satisfied: pytz>=2020.1 in /home/fundamentia/.local/lib/python3.8/site-packages (from pandas) (2022.1)\n",
            "Requirement already satisfied: numpy>=1.18.5; platform_machine != \"aarch64\" and platform_machine != \"arm64\" and python_version < \"3.10\" in /home/fundamentia/.local/lib/python3.8/site-packages (from pandas) (1.19.5)\n",
            "Requirement already satisfied: six>=1.5 in /home/fundamentia/.local/lib/python3.8/site-packages (from python-dateutil>=2.8.1->pandas) (1.15.0)\n"
          ]
        }
      ],
      "source": [
        "!pip install pydicom\n",
        "!pip install opencv-python\n",
        "!pip install pillow # optional \n",
        "!pip install pandas "
      ]
    },
    {
      "cell_type": "code",
      "execution_count": 4,
      "metadata": {
        "id": "zuSVwQ1jAL0E"
      },
      "outputs": [],
      "source": [
        "#imports\n",
        "import matplotlib.pyplot as plt\n",
        "import pydicom as dicom\n",
        "import os\n",
        "# from google.colab.patches import cv2_imshow as cv2\n",
        "import cv2 as cv2\n",
        "import PIL # optional"
      ]
    },
    {
      "cell_type": "code",
      "execution_count": 27,
      "metadata": {
        "colab": {
          "base_uri": "https://localhost:8080/",
          "height": 269
        },
        "id": "fgIdJtpEZawq",
        "outputId": "4a93cac3-5961-43c6-9a32-7d2aff19eaaa"
      },
      "outputs": [
        {
          "data": {
            "image/png": "[encoded data removed]",
            "text/plain": [
              "<Figure size 432x288 with 1 Axes>"
            ]
          },
          "metadata": {
            "needs_background": "light"
          },
          "output_type": "display_data"
        }
      ],
      "source": [
        "#convertir diccom a png\n",
        "in_path = \"/content/drive/MyDrive/TFM/Pruebas/originales/\"\n",
        "out_path = \"/content/drive/MyDrive/TFM/Pruebas/procesadas/\"\n",
        "name = \"man2.dcm\"\n",
        "out_name = name+ \".png\"\n",
        "def convert_diccom_to_png(in_file, out_path):\n",
        "  ds = dicom.dcmread(os.path.join(in_path, name))\n",
        "  pixel_array_numpy = ds.pixel_array\n",
        "  cv2.imwrite(os.path.join(out_path, out_name), pixel_array_numpy)\n",
        "\n",
        "image_path = in_path + \"man2_mask2.dcm\"\n",
        "def show_diccom_img(diccom_path):\n",
        "  ds = dicom.dcmread(image_path)\n",
        "  plt.imshow(ds.pixel_array)\n",
        "  plt.show()\n",
        "\n",
        "\n",
        "convert_diccom_to_png(in_path + name, out_path + out_name)\n",
        "show_diccom_img(in_path + name)"
      ]
    },
    {
      "cell_type": "code",
      "execution_count": 36,
      "metadata": {
        "colab": {
          "base_uri": "https://localhost:8080/",
          "height": 235
        },
        "id": "oeOOUdSGAU9C",
        "outputId": "91c2909a-4d01-46d4-d1d7-cd45e5a38cab"
      },
      "outputs": [
        {
          "ename": "AttributeError",
          "evalue": "ignored",
          "output_type": "error",
          "traceback": [
            "\u001b[0;31m---------------------------------------------------------------------------\u001b[0m",
            "\u001b[0;31mAttributeError\u001b[0m                            Traceback (most recent call last)",
            "\u001b[0;32m<ipython-input-36-0e6844e15f26>\u001b[0m in \u001b[0;36m<module>\u001b[0;34m()\u001b[0m\n\u001b[1;32m      1\u001b[0m \u001b[0;31m# recortar imagen\u001b[0m\u001b[0;34m\u001b[0m\u001b[0;34m\u001b[0m\u001b[0;34m\u001b[0m\u001b[0m\n\u001b[1;32m      2\u001b[0m \u001b[0mimage_path\u001b[0m \u001b[0;34m=\u001b[0m \u001b[0mout_path\u001b[0m \u001b[0;34m+\u001b[0m \u001b[0;34m\"man2.dcm.png\"\u001b[0m\u001b[0;34m\u001b[0m\u001b[0;34m\u001b[0m\u001b[0m\n\u001b[0;32m----> 3\u001b[0;31m \u001b[0mimg\u001b[0m \u001b[0;34m=\u001b[0m \u001b[0mcv2\u001b[0m\u001b[0;34m.\u001b[0m\u001b[0mimread\u001b[0m\u001b[0;34m(\u001b[0m\u001b[0mimage_path\u001b[0m\u001b[0;34m)\u001b[0m\u001b[0;34m\u001b[0m\u001b[0;34m\u001b[0m\u001b[0m\n\u001b[0m\u001b[1;32m      4\u001b[0m \u001b[0mprint\u001b[0m\u001b[0;34m(\u001b[0m\u001b[0mimg\u001b[0m\u001b[0;34m.\u001b[0m\u001b[0mshape\u001b[0m\u001b[0;34m)\u001b[0m\u001b[0;34m\u001b[0m\u001b[0;34m\u001b[0m\u001b[0m\n\u001b[1;32m      5\u001b[0m \u001b[0my_start\u001b[0m \u001b[0;34m=\u001b[0m \u001b[0mint\u001b[0m\u001b[0;34m(\u001b[0m\u001b[0mimg\u001b[0m\u001b[0;34m.\u001b[0m\u001b[0mshape\u001b[0m\u001b[0;34m[\u001b[0m\u001b[0;36m0\u001b[0m\u001b[0;34m]\u001b[0m\u001b[0;34m/\u001b[0m\u001b[0;36m96\u001b[0m\u001b[0;34m)\u001b[0m\u001b[0;34m\u001b[0m\u001b[0;34m\u001b[0m\u001b[0m\n",
            "\u001b[0;31mAttributeError\u001b[0m: 'function' object has no attribute 'imread'"
          ]
        }
      ],
      "source": [
        "# recortar imagen\n",
        "image_path = out_path + \"man2.dcm.png\"\n",
        "img = cv2.imread(image_path)\n",
        "print(img.shape)\n",
        "y_start = int(img.shape[0]/96)\n",
        "y_end = img.shape[0] - y_start\n",
        "x_start = int(img.shape[1]/100)\n",
        "x_end = img.shape[1] - x_start\n",
        "\n",
        "crop_img = img[y_start:y_end, x_start:x_end]\n",
        "cv2.imshow(\"cropped\", crop_img)\n",
        "cv2.waitKey(0)"
      ]
    }
  ],
  "metadata": {
    "colab": {
      "authorship_tag": "ABX9TyOXftIAt7KqwzdGANMYtlrI",
      "include_colab_link": true,
      "mount_file_id": "1i8g-W2hi075PMWB1cxW1OgVlIS7Bfwy3",
      "name": "Pruebas.ipynb",
      "provenance": []
    },
    "kernelspec": {
      "display_name": "Python 3.8.10 64-bit",
      "language": "python",
      "name": "python3"
    },
    "language_info": {
      "codemirror_mode": {
        "name": "ipython",
        "version": 3
      },
      "file_extension": ".py",
      "mimetype": "text/x-python",
      "name": "python",
      "nbconvert_exporter": "python",
      "pygments_lexer": "ipython3",
      "version": "3.8.10"
    },
    "vscode": {
      "interpreter": {
        "hash": "916dbcbb3f70747c44a77c7bcd40155683ae19c65e1c03b4aa3499c5328201f1"
      }
    }
  },
  "nbformat": 4,
  "nbformat_minor": 0
}
