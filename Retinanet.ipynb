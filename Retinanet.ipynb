{
  "nbformat": 4,
  "nbformat_minor": 0,
  "metadata": {
    "colab": {
      "provenance": [],
      "include_colab_link": true
    },
    "kernelspec": {
      "name": "python3",
      "display_name": "Python 3"
    },
    "language_info": {
      "name": "python"
    },
    "accelerator": "GPU",
    "gpuClass": "standard"
  },
  "cells": [
    {
      "cell_type": "markdown",
      "metadata": {
        "id": "view-in-github",
        "colab_type": "text"
      },
      "source": [
        "<a href=\"https://colab.research.google.com/github/KoNGoL/tfm_breast_cancer_detection/blob/main/Retinanet.ipynb\" target=\"_parent\"><img src=\"https://colab.research.google.com/assets/colab-badge.svg\" alt=\"Open In Colab\"/></a>"
      ]
    },
    {
      "cell_type": "code",
      "execution_count": 1,
      "metadata": {
        "id": "0SnrfN2DhKLh",
        "outputId": "79a0e8c3-29b6-4c6c-e577-2337eefb40d4",
        "colab": {
          "base_uri": "https://localhost:8080/"
        }
      },
      "outputs": [
        {
          "output_type": "stream",
          "name": "stdout",
          "text": [
            "Mounted at /content/Drive\n",
            "/content/Drive/MyDrive/RetinaNet\n"
          ]
        }
      ],
      "source": [
        "!mkdir -p /content/Drive/\n",
        "from google.colab import drive\n",
        "drive.mount('/content/Drive') \n",
        "!mkdir -p /content/Drive/MyDrive/RetinaNet/\n",
        "%cd /content/Drive/MyDrive/RetinaNet/"
      ]
    },
    {
      "cell_type": "code",
      "source": [
        "# !git clone https://github.com/fizyr/keras-retinanet\n",
        "%cd /content/Drive/MyDrive/RetinaNet/keras-retinanet/\n",
        "!pip install numpy --user\n",
        "!pip install . --user\n",
        "!python setup.py build_ext --inplace\n",
        "# !wget https://github.com/fizyr/keras-retinanet/releases/download/0.5.1/resnet50_coco_best_v2.1.0.h5\n",
        "# !mv  /content/Drive/MyDrive/RetinaNet/keras-retinanet/resnet50_coco_best_v2.1.0.h5  /content/Drive/MyDrive/RetinaNet//keras-retinanet/snapshots/\n"
      ],
      "metadata": {
        "id": "edXHthNs_3Ul",
        "outputId": "58b3a2cb-b6ad-4d17-edb6-f5cb0bd8fca4",
        "colab": {
          "base_uri": "https://localhost:8080/"
        }
      },
      "execution_count": 2,
      "outputs": [
        {
          "output_type": "stream",
          "name": "stdout",
          "text": [
            "/content/Drive/MyDrive/RetinaNet/keras-retinanet\n",
            "Looking in indexes: https://pypi.org/simple, https://us-python.pkg.dev/colab-wheels/public/simple/\n",
            "Requirement already satisfied: numpy in /usr/local/lib/python3.7/dist-packages (1.21.6)\n",
            "Looking in indexes: https://pypi.org/simple, https://us-python.pkg.dev/colab-wheels/public/simple/\n",
            "Processing /content/Drive/MyDrive/RetinaNet/keras-retinanet\n",
            "\u001b[33m  DEPRECATION: A future pip version will change local packages to be built in-place without first copying to a temporary directory. We recommend you use --use-feature=in-tree-build to test your packages with this new behavior before it becomes the default.\n",
            "   pip 21.3 will remove support for this functionality. You can find discussion regarding this at https://github.com/pypa/pip/issues/7555.\u001b[0m\n",
            "Collecting keras-resnet==0.2.0\n",
            "  Downloading keras-resnet-0.2.0.tar.gz (9.3 kB)\n",
            "Requirement already satisfied: six in /usr/local/lib/python3.7/dist-packages (from keras-retinanet==1.0.0) (1.15.0)\n",
            "Requirement already satisfied: numpy in /usr/local/lib/python3.7/dist-packages (from keras-retinanet==1.0.0) (1.21.6)\n",
            "Requirement already satisfied: cython in /usr/local/lib/python3.7/dist-packages (from keras-retinanet==1.0.0) (0.29.32)\n",
            "Requirement already satisfied: Pillow in /usr/local/lib/python3.7/dist-packages (from keras-retinanet==1.0.0) (7.1.2)\n",
            "Requirement already satisfied: opencv-python in /usr/local/lib/python3.7/dist-packages (from keras-retinanet==1.0.0) (4.6.0.66)\n",
            "Requirement already satisfied: progressbar2 in /usr/local/lib/python3.7/dist-packages (from keras-retinanet==1.0.0) (3.38.0)\n",
            "Requirement already satisfied: keras>=2.2.4 in /usr/local/lib/python3.7/dist-packages (from keras-resnet==0.2.0->keras-retinanet==1.0.0) (2.9.0)\n",
            "Requirement already satisfied: python-utils>=2.3.0 in /usr/local/lib/python3.7/dist-packages (from progressbar2->keras-retinanet==1.0.0) (3.4.5)\n",
            "Building wheels for collected packages: keras-retinanet, keras-resnet\n",
            "  Building wheel for keras-retinanet (setup.py) ... \u001b[?25l\u001b[?25hdone\n",
            "  Created wheel for keras-retinanet: filename=keras_retinanet-1.0.0-cp37-cp37m-linux_x86_64.whl size=169457 sha256=b1724916b47721ee36a701287906286f8843ed0ecfb64f96807d0546519d370d\n",
            "  Stored in directory: /root/.cache/pip/wheels/be/04/af/1c7daf7a6159b5274267d4629d60ed538b69299ec9996cc17f\n",
            "  Building wheel for keras-resnet (setup.py) ... \u001b[?25l\u001b[?25hdone\n",
            "  Created wheel for keras-resnet: filename=keras_resnet-0.2.0-py2.py3-none-any.whl size=20486 sha256=ce878705194a8f6d56b245366872d5fcb93df878f5c877ea424a9d724f75c784\n",
            "  Stored in directory: /root/.cache/pip/wheels/bd/ef/06/5d65f696360436c3a423020c4b7fd8c558c09ef264a0e6c575\n",
            "Successfully built keras-retinanet keras-resnet\n",
            "Installing collected packages: keras-resnet, keras-retinanet\n",
            "\u001b[33m  WARNING: The scripts retinanet-convert-model, retinanet-debug, retinanet-evaluate and retinanet-train are installed in '/root/.local/bin' which is not on PATH.\n",
            "  Consider adding this directory to PATH or, if you prefer to suppress this warning, use --no-warn-script-location.\u001b[0m\n",
            "Successfully installed keras-resnet-0.2.0 keras-retinanet-1.0.0\n",
            "running build_ext\n",
            "skipping 'keras_retinanet/utils/compute_overlap.c' Cython extension (up-to-date)\n",
            "copying build/lib.linux-x86_64-3.7/keras_retinanet/utils/compute_overlap.cpython-37m-x86_64-linux-gnu.so -> keras_retinanet/utils\n"
          ]
        }
      ]
    },
    {
      "cell_type": "code",
      "source": [
        "%cd /content/Drive/MyDrive/RetinaNet/keras-retinanet/examples \n",
        "!python resnet50_retinanet.py"
      ],
      "metadata": {
        "colab": {
          "base_uri": "https://localhost:8080/"
        },
        "id": "5lMvrLshiBMP",
        "outputId": "66dae84c-130b-4a5f-bad6-38fbbcd80939"
      },
      "execution_count": null,
      "outputs": [
        {
          "output_type": "stream",
          "name": "stdout",
          "text": [
            "/content/Drive/MyDrive/RetinaNet/keras-retinanet/examples\n",
            "1 Physical GPUs, 1 Logical GPUs\n",
            "WARNING:tensorflow:No training configuration found in the save file, so the model was *not* compiled. Compile it manually.\n",
            "WARNING:tensorflow:No training configuration found in the save file, so the model was *not* compiled. Compile it manually.\n",
            "[[ 0  0  1  1  1  0  1  0  1  1  0  1  1  0  0  1  0  0  1  1  1  1  1 -1\n",
            "  -1 -1 -1 -1 -1 -1 -1 -1 -1 -1 -1 -1 -1 -1 -1 -1 -1 -1 -1 -1 -1 -1 -1 -1\n",
            "  -1 -1 -1 -1 -1 -1 -1 -1 -1 -1 -1 -1 -1 -1 -1 -1 -1 -1 -1 -1 -1 -1 -1 -1\n",
            "  -1 -1 -1 -1 -1 -1 -1 -1 -1 -1 -1 -1 -1 -1 -1 -1 -1 -1 -1 -1 -1 -1 -1 -1\n",
            "  -1 -1 -1 -1 -1 -1 -1 -1 -1 -1 -1 -1 -1 -1 -1 -1 -1 -1 -1 -1 -1 -1 -1 -1\n",
            "  -1 -1 -1 -1 -1 -1 -1 -1 -1 -1 -1 -1 -1 -1 -1 -1 -1 -1 -1 -1 -1 -1 -1 -1\n",
            "  -1 -1 -1 -1 -1 -1 -1 -1 -1 -1 -1 -1 -1 -1 -1 -1 -1 -1 -1 -1 -1 -1 -1 -1\n",
            "  -1 -1 -1 -1 -1 -1 -1 -1 -1 -1 -1 -1 -1 -1 -1 -1 -1 -1 -1 -1 -1 -1 -1 -1\n",
            "  -1 -1 -1 -1 -1 -1 -1 -1 -1 -1 -1 -1 -1 -1 -1 -1 -1 -1 -1 -1 -1 -1 -1 -1\n",
            "  -1 -1 -1 -1 -1 -1 -1 -1 -1 -1 -1 -1 -1 -1 -1 -1 -1 -1 -1 -1 -1 -1 -1 -1\n",
            "  -1 -1 -1 -1 -1 -1 -1 -1 -1 -1 -1 -1 -1 -1 -1 -1 -1 -1 -1 -1 -1 -1 -1 -1\n",
            "  -1 -1 -1 -1 -1 -1 -1 -1 -1 -1 -1 -1 -1 -1 -1 -1 -1 -1 -1 -1 -1 -1 -1 -1\n",
            "  -1 -1 -1 -1 -1 -1 -1 -1 -1 -1 -1 -1]]\n",
            "processing time:  4.979859828948975\n",
            "a\n",
            "[ 80.41931 402.6994  126.69515 445.50668]\n",
            "0\n",
            "Figure(1500x1500)\n"
          ]
        }
      ]
    },
    {
      "cell_type": "code",
      "source": [
        "%cd /content\n",
        "!pip install roboflow\n",
        "\n",
        "from roboflow import Roboflow\n",
        "# rf = Roboflow(api_key=\"yGM3vBhGiZQUJrW3szSn\")\n",
        "# project = rf.workspace(\"tfm-pq95g\").project(\"tfm-breast_640_separated\")\n",
        "# dataset = project.version(1).download(\"voc\")"
      ],
      "metadata": {
        "id": "Z0ylfbZYiVbQ"
      },
      "execution_count": null,
      "outputs": []
    },
    {
      "cell_type": "code",
      "source": [
        "!mkdir /content/Drive/MyDrive/RetinaNet/dataset\n",
        "!mkdir /content/Drive/MyDrive/RetinaNet/dataset/{Annotations,ImageSets,JPEGImages}\n",
        "!mkdir /content/Drive/MyDrive/RetinaNet/dataset/ImageSets/Main\n",
        "!cp /content/TFM-breast_640_separated-1/test/*jpg /content/Drive/MyDrive/RetinaNet/dataset/JPEGImages/\n",
        "!cp /content/TFM-breast_640_separated-1/train/*jpg /content/Drive/MyDrive/RetinaNet/dataset/JPEGImages/\n",
        "!cp /content/TFM-breast_640_separated-1/valid/*jpg /content/Drive/MyDrive/RetinaNet/dataset/JPEGImages/\n",
        "!cp /content/TFM-breast_640_separated-1/train/*xml /content/Drive/MyDrive/RetinaNet/dataset/Annotations/\n",
        "!cp /content/TFM-breast_640_separated-1/test/*xml /content/Drive/MyDrive/RetinaNet/dataset/Annotations/\n",
        "!cp /content/TFM-breast_640_separated-1/valid/*xml /content/Drive/MyDrive/RetinaNet/dataset/Annotations/"
      ],
      "metadata": {
        "id": "JRWlRlgxvaef"
      },
      "execution_count": null,
      "outputs": []
    },
    {
      "cell_type": "code",
      "source": [
        "from os import listdir\n",
        "from os.path import isfile, join\n",
        "\n",
        "# dataset_directory = \"/content/dataset/Annotations\"\n",
        "\n",
        "with open(\"/content/Drive/MyDrive/RetinaNet/dataset/ImageSets/Main/test.txt\", \"w\") as test:\n",
        "    for file in listdir('/content/TFM-breast_640_separated-1/test/'):\n",
        "        if \".xml\" in file:\n",
        "          continue\n",
        "        name = file.split(\"\\\\\")[-1]\n",
        "        name = name.replace('.jpg', '')\n",
        "        test.write(name + \"\\n\")\n",
        "        # print(\"test:    \" + name)\n",
        "        \n",
        "with open(\"/content/Drive/MyDrive/RetinaNet/dataset/ImageSets/Main/train.txt\", \"w\") as train:\n",
        "    for file in listdir('/content/TFM-breast_640_separated-1/train/'):\n",
        "        if \".xml\" in file:\n",
        "          continue\n",
        "        name = file.split(\"\\\\\")[-1]\n",
        "        name = name.replace('.jpg', '')\n",
        "        train.write(name + \"\\n\")   \n",
        "        # print(\"train:    \" + name)   \n",
        "\n",
        "with open(\"/content/Drive/MyDrive/RetinaNet/dataset/ImageSets/Main/val.txt\", \"w\") as val:\n",
        "    for file in listdir('/content/TFM-breast_640_separated-1/valid/'):\n",
        "        if \".xml\" in file:\n",
        "          continue\n",
        "        name = file.split(\"\\\\\")[-1]\n",
        "        name = name.replace('.jpg', '')\n",
        "        val.write(name + \"\\n\")   \n",
        "        # print(\"train:    \" + name)\n",
        "\n",
        "test.close()\n",
        "train.close()\n",
        "val.close()"
      ],
      "metadata": {
        "id": "KEskoRU7yOy3"
      },
      "execution_count": null,
      "outputs": []
    },
    {
      "cell_type": "code",
      "source": [
        "!cp -r /content/Drive/MyDrive/RetinaNet/dataset /content/\n",
        "\n",
        "#empezar entrenamiento\n",
        "# !python /content/Drive/MyDrive/RetinaNet/keras-retinanet/keras_retinanet/bin/train.py --imagenet-weights --lr 0.0001 --gpu 0 --epoch 100 --batch-size 8 --steps 614 --snapshot-path /content/Drive/MyDrive/RetinaNet/retinanet_models_2/ --tensorboard-dir /content/Drive/MyDrive/RetinaNet/retinanet_log_2/ pascal /content/Drive/MyDrive/RetinaNet/dataset/\n",
        "#continuar entrenamiento\n",
        "!python /content/Drive/MyDrive/RetinaNet/keras-retinanet/keras_retinanet/bin/train.py --initial-epoch 12 --snapshot /content/Drive/MyDrive/RetinaNet/retinanet_models_2/resnet50_pascal_11.h5 --lr 0.0001 --gpu 0 --epoch 100 --batch-size 8 --steps 614 --snapshot-path /content/Drive/MyDrive/RetinaNet/retinanet_models_2/ --tensorboard-dir /content/Drive/MyDrive/RetinaNet/retinanet_log_2/ pascal /content/dataset/"
      ],
      "metadata": {
        "colab": {
          "base_uri": "https://localhost:8080/"
        },
        "id": "33QqhTU4w_Wp",
        "outputId": "c50d5a54-47f9-4368-ff6a-8b5ca66eb413"
      },
      "execution_count": null,
      "outputs": [
        {
          "output_type": "stream",
          "name": "stdout",
          "text": [
            "backbone\n",
            "check_tf_version\n",
            "1 Physical GPUs, 1 Logical GPUs\n",
            "setup_gpu\n",
            "read_config_file\n",
            "PASCAL\n",
            "PASCAL2\n",
            "PASCAL3\n",
            "create_generators\n",
            "Loading model, this may take a second...\n"
          ]
        }
      ]
    },
    {
      "cell_type": "code",
      "source": [
        "# generamos el modelo final\n",
        "!python /content/Drive/MyDrive/RetinaNet/keras-retinanet/keras_retinanet/bin/convert_model.py /content/Drive/MyDrive/RetinaNet/retinanet_models/resnet50_pascal_49.h5 /content/Drive/MyDrive/RetinaNet/retinanet_models/resnet50_pascal_final.h5"
      ],
      "metadata": {
        "id": "owTUCiPw5Q2n",
        "outputId": "0f39e799-a33b-4989-da01-0807bf056265",
        "colab": {
          "base_uri": "https://localhost:8080/"
        }
      },
      "execution_count": null,
      "outputs": [
        {
          "output_type": "stream",
          "name": "stdout",
          "text": [
            "WARNING:tensorflow:Compiled the loaded model, but the compiled metrics have yet to be built. `model.compile_metrics` will be empty until you train or evaluate the model.\n",
            "WARNING:tensorflow:Compiled the loaded model, but the compiled metrics have yet to be built. `model.compile_metrics` will be empty until you train or evaluate the model.\n"
          ]
        }
      ]
    },
    {
      "cell_type": "code",
      "source": [
        "import sys\n",
        "sys.path.insert(0, '/content/Drive/MyDrive/RetinaNet/keras-retinanet/keras_retinanet/')\n",
        "\n",
        "\n",
        "# import keras_retinanet\n",
        "from keras_retinanet import models\n",
        "from keras_retinanet.utils.image import read_image_bgr, preprocess_image, resize_image\n",
        "from keras_retinanet.utils.visualization import draw_box, draw_caption\n",
        "from keras_retinanet.utils.colors import label_color\n",
        "from keras_retinanet.utils.gpu import setup_gpu\n",
        "\n",
        "# import miscellaneous modules\n",
        "import matplotlib.pyplot as plt\n",
        "import cv2\n",
        "import os\n",
        "import numpy as np\n",
        "import time\n",
        "\n",
        "# set tf backend to allow memory to grow, instead of claiming everything\n",
        "import tensorflow as tf\n",
        "\n",
        "# use this to change which GPU to use\n",
        "gpu = \"0\"\n",
        "\n",
        "# set the modified tf session as backend in keras\n",
        "setup_gpu(gpu)\n",
        "\n",
        "\n",
        "# ## Load RetinaNet model\n",
        "\n",
        "# In[ ]:\n",
        "\n",
        "\n",
        "# adjust this to point to your downloaded/trained model\n",
        "# models can be downloaded here: https://github.com/fizyr/keras-retinanet/releases\n",
        "model_path = os.path.join('..', 'snapshots', '/content/Drive/MyDrive/RetinaNet/retinanet_models/resnet50_pascal_final.h5')\n",
        "\n",
        "# load retinanet model\n",
        "model = models.load_model(model_path, backbone_name='resnet50')\n",
        "\n",
        "# if the model is not converted to an inference model, use the line below\n",
        "# see: https://github.com/fizyr/keras-retinanet#converting-a-training-model-to-inference-model\n",
        "# model = models.convert_model(model)\n",
        "\n",
        "#print(model.summary())\n",
        "\n",
        "# load label to names mapping for visualization purposes\n",
        "labels_to_names = {0: 'person', 1: 'bicycle', 2: 'car'}\n",
        "\n",
        "\n",
        "# ## Run detection on example\n",
        "\n",
        "# In[ ]:\n",
        "\n",
        "\n",
        "# load image\n",
        "image = read_image_bgr('/content/dataset/JPEGImages/Calc-Test_P_00038_LEFT_CC_png.rf.24a9e08dfd0318b78880e8dc2ee6fee1.jpg')\n",
        "\n",
        "# copy to draw on\n",
        "draw = image.copy()\n",
        "draw = cv2.cvtColor(draw, cv2.COLOR_BGR2RGB)\n",
        "\n",
        "# preprocess image for network\n",
        "image = preprocess_image(image)\n",
        "image, scale = resize_image(image)\n",
        "\n",
        "# process image\n",
        "start = time.time()\n",
        "boxes, scores, labels = model.predict_on_batch(np.expand_dims(image, axis=0))\n",
        "# print(boxes)\n",
        "print(labels)\n",
        "print(\"processing time: \", time.time() - start)\n",
        "\n",
        "# correct for image scale\n",
        "boxes /= scale\n",
        "\n",
        "# visualize detections\n",
        "for box, score, label in zip(boxes[0], scores[0], labels[0]):\n",
        "    # scores are sorted so we can break\n",
        "    if score < 0.5:\n",
        "        break\n",
        "\n",
        "    color = label_color(label)\n",
        "\n",
        "    b = box.astype(int)\n",
        "    draw_box(draw, b, color=color)\n",
        "\n",
        "    caption = \"{} {:.3f}\".format(labels_to_names[label], score)\n",
        "    draw_caption(draw, b, caption)\n",
        "\n",
        "plt.figure(figsize=(15, 15))\n",
        "plt.axis('off')\n",
        "plt.imshow(draw)\n",
        "plt.show()"
      ],
      "metadata": {
        "id": "9e4zaRFA9oys"
      },
      "execution_count": null,
      "outputs": []
    },
    {
      "cell_type": "code",
      "source": [
        "!cp /content/dataset/Annotations/Mass-Training_P_00294_LEFT_CC_png.rf.81f6012544c25a4afaf8242787c3ea44.xml /content/"
      ],
      "metadata": {
        "id": "Mzr4QoAKG0XE"
      },
      "execution_count": null,
      "outputs": []
    }
  ]
}